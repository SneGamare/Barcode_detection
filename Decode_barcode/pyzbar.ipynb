from pyzbar import pyzbar
import cv2
import time
 %matplotlib inline
 start = time.time()

 import os
 import matplotlib.image as mpimg
 import matplotlib.pyplot as plt
 import numpy
 images[]
 folder=r'barcodes'
 for filename in os.listdir(folder):
    try:
    